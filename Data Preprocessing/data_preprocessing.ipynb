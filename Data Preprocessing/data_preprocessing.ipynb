{
 "cells": [
  {
   "cell_type": "code",
   "execution_count": null,
   "id": "e2fbd5db",
   "metadata": {},
   "outputs": [],
   "source": [
    "import pandas as pd\n",
    "import os\n",
    "import matplotlib.pyplot as plt\n",
    "import numpy as np"
   ]
  },
  {
   "cell_type": "markdown",
   "id": "47342a31",
   "metadata": {},
   "source": [
    "## Data Preprocessing"
   ]
  },
  {
   "cell_type": "markdown",
   "id": "c97b98f2",
   "metadata": {},
   "source": [
    "Show the data around zip code 92612 with radius 20 miles"
   ]
  },
  {
   "cell_type": "code",
   "execution_count": null,
   "id": "1c7077b3",
   "metadata": {},
   "outputs": [],
   "source": [
    "df = pd.read_csv(\"zip_92612_radius_20.csv\")\n",
    "for col in ['Population', 'Business', 'Distance']:\n",
    "    df[col] = df[col].astype(str).str.replace(',', '').astype(float)"
   ]
  },
  {
   "cell_type": "code",
   "execution_count": null,
   "id": "bd82e754",
   "metadata": {},
   "outputs": [],
   "source": [
    "df_filtered = df[df[\"Population\"] > 0]\n",
    "\n",
    "def zip_partition(zipcode):\n",
    "    return int(str(zipcode)[:3]) * 10  # e.g., 90631 -> 9060\n",
    "\n",
    "df_filtered[\"ZIP Group\"] = df_filtered[\"ZIP Code\"].apply(zip_partition)\n",
    "unique_groups = sorted(df_filtered[\"ZIP Group\"].unique())\n",
    "colors = plt.cm.tab10(np.linspace(0, 1, len(unique_groups)))\n",
    "color_map = {group: colors[i] for i, group in enumerate(unique_groups)}\n",
    "\n",
    "plt.figure(figsize=(12, 7))\n",
    "for _, row in df_filtered.iterrows():\n",
    "    plt.scatter(row[\"Population\"], row[\"Business\"], color=color_map[row[\"ZIP Group\"]], s=60)\n",
    "\n",
    "plt.title(\"Business Count vs. Population by ZIP Code (Colored by ZIP Range Group)\", fontsize=14)\n",
    "plt.xlabel(\"Population\")\n",
    "plt.ylabel(\"Number of Businesses\")\n",
    "plt.tight_layout()\n",
    "\n",
    "handles = [plt.Line2D([0], [0], marker='o', color='w', label=f\"{group}-{group+9}\",\n",
    "                      markerfacecolor=color_map[group], markersize=10)\n",
    "           for group in unique_groups]\n",
    "plt.legend(handles=handles, title=\"ZIP Code Group\", loc='upper left')\n",
    "plt.show()"
   ]
  },
  {
   "cell_type": "markdown",
   "id": "28ab32c0",
   "metadata": {},
   "source": [
    "change all dowloaded xlsx file to csv, then concatenate by column name"
   ]
  },
  {
   "cell_type": "code",
   "execution_count": null,
   "id": "65a4eb33",
   "metadata": {},
   "outputs": [],
   "source": [
    "csv_files = []\n",
    "for filename in os.listdir():\n",
    "    if filename.endswith('.xlsx'):\n",
    "        df = pd.read_excel(filename)\n",
    "        csv_name = filename.replace('.xlsx', '.csv')\n",
    "        df.to_csv(csv_name, index=False)\n",
    "        csv_files.append(csv_name)\n",
    "\n",
    "merged_df = pd.concat([pd.read_csv(file) for file in csv_files], ignore_index=True)\n",
    "merged_df = merged_df.drop_duplicates()\n",
    "merged_df.to_csv('merged_output.csv', index=False)"
   ]
  },
  {
   "cell_type": "code",
   "execution_count": null,
   "id": "c032e4ce",
   "metadata": {},
   "outputs": [],
   "source": [
    "target_zips = [\n",
    "    92626, 92627, 92660, 92683, 92701, 92703, 92704, 92705,\n",
    "    92706, 92707, 92780, 92782, 92801, 92802, 92804, 92805,\n",
    "    92806, 92831, 92832, 92833, 92840, 92841, 92844, 92866,\n",
    "    92868, 92869\n",
    "]\n",
    "\n",
    "for x in range(0,1):\n",
    "    file_name = \"merged_output.csv\"\n",
    "    \n",
    "    try:\n",
    "        df = pd.read_csv(file_name, encoding=\"ISO-8859-1\")\n",
    "        filtered_df = df[df['Zip'].isin(target_zips)]\n",
    "        filtered_df.to_csv(file_name, index=False, encoding=\"utf-8\")\n",
    "        print(f\"{file_name} → Filtered rows: {len(filtered_df)}\")\n",
    "    except FileNotFoundError:\n",
    "        print(f\"{file_name} not found. Skipping.\")\n",
    "    except Exception as e:\n",
    "        print(f\"Error processing {file_name}: {e}\")"
   ]
  }
 ],
 "metadata": {
  "kernelspec": {
   "display_name": "Python 3",
   "language": "python",
   "name": "python3"
  },
  "language_info": {
   "codemirror_mode": {
    "name": "ipython",
    "version": 3
   },
   "file_extension": ".py",
   "mimetype": "text/x-python",
   "name": "python",
   "nbconvert_exporter": "python",
   "pygments_lexer": "ipython3",
   "version": "3.12.7"
  }
 },
 "nbformat": 4,
 "nbformat_minor": 5
}
